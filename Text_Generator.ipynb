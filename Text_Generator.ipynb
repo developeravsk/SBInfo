{
  "nbformat": 4,
  "nbformat_minor": 0,
  "metadata": {
    "colab": {
      "name": "Text Generator",
      "provenance": []
    },
    "kernelspec": {
      "name": "python3",
      "display_name": "Python 3"
    },
    "language_info": {
      "name": "python"
    },
    "accelerator": "GPU"
  },
  "cells": [
    {
      "cell_type": "code",
      "metadata": {
        "id": "KoBM6lhZ0XiP",
        "colab": {
          "base_uri": "https://localhost:8080/"
        },
        "outputId": "0bc3bea9-2692-4c31-8fcc-0bd2bcdf7adf"
      },
      "source": [
        "%tensorflow_version 2.3.2\n",
        "import tensorflow as tf\n",
        "import string\n",
        "import requests\n",
        "import sqlalchemy\n",
        "import numpy as np\n",
        "import pandas as pd"
      ],
      "execution_count": 1,
      "outputs": [
        {
          "output_type": "stream",
          "text": [
            "`%tensorflow_version` only switches the major version: 1.x or 2.x.\n",
            "You set: `2.3.2`. This will be interpreted as: `2.x`.\n",
            "\n",
            "\n",
            "TensorFlow 2.x selected.\n"
          ],
          "name": "stdout"
        }
      ]
    },
    {
      "cell_type": "code",
      "metadata": {
        "id": "nVpj87h_0vEB"
      },
      "source": [
        "#import data\n",
        "db_name = \"actual_news_data.db\"\n",
        "table_name = \"News\"\n",
        "\n",
        "engine = sqlalchemy.create_engine(\"sqlite:///%s\" % db_name, execution_options={\"sqlite_raw_colnames\": True})\n",
        "df = pd.read_sql_table(table_name, engine)"
      ],
      "execution_count": 2,
      "outputs": []
    },
    {
      "cell_type": "code",
      "metadata": {
        "colab": {
          "base_uri": "https://localhost:8080/",
          "height": 486
        },
        "id": "3lBxkVN01Tzv",
        "outputId": "7c7962b6-14bb-414d-dc9c-95f6e7460f13"
      },
      "source": [
        "df.head()"
      ],
      "execution_count": 3,
      "outputs": [
        {
          "output_type": "execute_result",
          "data": {
            "text/html": [
              "<div>\n",
              "<style scoped>\n",
              "    .dataframe tbody tr th:only-of-type {\n",
              "        vertical-align: middle;\n",
              "    }\n",
              "\n",
              "    .dataframe tbody tr th {\n",
              "        vertical-align: top;\n",
              "    }\n",
              "\n",
              "    .dataframe thead th {\n",
              "        text-align: right;\n",
              "    }\n",
              "</style>\n",
              "<table border=\"1\" class=\"dataframe\">\n",
              "  <thead>\n",
              "    <tr style=\"text-align: right;\">\n",
              "      <th></th>\n",
              "      <th>index</th>\n",
              "      <th>Author</th>\n",
              "      <th>Title</th>\n",
              "      <th>Description</th>\n",
              "      <th>URL</th>\n",
              "      <th>Source</th>\n",
              "      <th>Country</th>\n",
              "      <th>Date</th>\n",
              "    </tr>\n",
              "  </thead>\n",
              "  <tbody>\n",
              "    <tr>\n",
              "      <th>0</th>\n",
              "      <td>8</td>\n",
              "      <td>Catherine Shu</td>\n",
              "      <td>Bibit raises another growth round led by Sequo...</td>\n",
              "      <td>Four months after leading a $30 million growth...</td>\n",
              "      <td>https://techcrunch.com/2021/05/02/bibit-raises...</td>\n",
              "      <td>TechCrunch</td>\n",
              "      <td>us</td>\n",
              "      <td>2021-05-03T04:36:17+00:00</td>\n",
              "    </tr>\n",
              "    <tr>\n",
              "      <th>1</th>\n",
              "      <td>10</td>\n",
              "      <td>Kim Lyons</td>\n",
              "      <td>California appeals court finds Amazon responsi...</td>\n",
              "      <td>Illustration by Alex Castro / The Verge An app...</td>\n",
              "      <td>https://www.theverge.com/2021/5/1/22414185/cal...</td>\n",
              "      <td>The Verge</td>\n",
              "      <td>us</td>\n",
              "      <td>2021-05-01T16:59:00+00:00</td>\n",
              "    </tr>\n",
              "    <tr>\n",
              "      <th>2</th>\n",
              "      <td>24</td>\n",
              "      <td>Darrell Etherington</td>\n",
              "      <td>Firefly Aerospace raises $75M Series A at a $1...</td>\n",
              "      <td>Firefly Aerospace has raised a total of $175 m...</td>\n",
              "      <td>https://techcrunch.com/2021/05/04/firefly-aero...</td>\n",
              "      <td>TechCrunch</td>\n",
              "      <td>us</td>\n",
              "      <td>2021-05-04T13:37:45+00:00</td>\n",
              "    </tr>\n",
              "    <tr>\n",
              "      <th>3</th>\n",
              "      <td>25</td>\n",
              "      <td>Mike Butcher</td>\n",
              "      <td>London’s Stride VC raised second $138.6M seed ...</td>\n",
              "      <td>Stride VC, a London-based seed investment fund...</td>\n",
              "      <td>https://techcrunch.com/2021/05/04/londons-stri...</td>\n",
              "      <td>TechCrunch</td>\n",
              "      <td>us</td>\n",
              "      <td>2021-05-04T15:38:05+00:00</td>\n",
              "    </tr>\n",
              "    <tr>\n",
              "      <th>4</th>\n",
              "      <td>35</td>\n",
              "      <td>Connie Loizos</td>\n",
              "      <td>Are we overestimating the ransomware threat?</td>\n",
              "      <td>On Monday afternoon, the U.S. Justice Departme...</td>\n",
              "      <td>https://techcrunch.com/2021/06/08/are-we-overe...</td>\n",
              "      <td>TechCrunch</td>\n",
              "      <td>us</td>\n",
              "      <td>2021-06-08T08:15:35+00:00</td>\n",
              "    </tr>\n",
              "  </tbody>\n",
              "</table>\n",
              "</div>"
            ],
            "text/plain": [
              "   index               Author  ... Country                       Date\n",
              "0      8        Catherine Shu  ...      us  2021-05-03T04:36:17+00:00\n",
              "1     10            Kim Lyons  ...      us  2021-05-01T16:59:00+00:00\n",
              "2     24  Darrell Etherington  ...      us  2021-05-04T13:37:45+00:00\n",
              "3     25         Mike Butcher  ...      us  2021-05-04T15:38:05+00:00\n",
              "4     35        Connie Loizos  ...      us  2021-06-08T08:15:35+00:00\n",
              "\n",
              "[5 rows x 8 columns]"
            ]
          },
          "metadata": {
            "tags": []
          },
          "execution_count": 3
        }
      ]
    },
    {
      "cell_type": "code",
      "metadata": {
        "id": "BcfhdGwb1VRv"
      },
      "source": [
        "data=df['Description'].to_list()"
      ],
      "execution_count": 4,
      "outputs": []
    },
    {
      "cell_type": "code",
      "metadata": {
        "colab": {
          "base_uri": "https://localhost:8080/"
        },
        "id": "aR48ND_02a8e",
        "outputId": "2ae6c8d3-fb67-4026-c19a-b8e0534e00c1"
      },
      "source": [
        "len(data)"
      ],
      "execution_count": 5,
      "outputs": [
        {
          "output_type": "execute_result",
          "data": {
            "text/plain": [
              "586"
            ]
          },
          "metadata": {
            "tags": []
          },
          "execution_count": 5
        }
      ]
    },
    {
      "cell_type": "code",
      "metadata": {
        "id": "SaI_Ldu12cu-"
      },
      "source": [
        "data=\" \".join(data)"
      ],
      "execution_count": 6,
      "outputs": []
    },
    {
      "cell_type": "code",
      "metadata": {
        "id": "ufWv8CIY2k6t"
      },
      "source": [
        "def clean_text(doc):\n",
        "  tokens=doc.split()\n",
        "  table=str.maketrans('','',string.punctuation)\n",
        "  tokens=[w.translate(table) for w in tokens]\n",
        "  tokens=[word for word in tokens if word.isalpha()]\n",
        "  tokens=[word.lower() for word in tokens]\n",
        "  return tokens"
      ],
      "execution_count": 7,
      "outputs": []
    },
    {
      "cell_type": "code",
      "metadata": {
        "colab": {
          "base_uri": "https://localhost:8080/"
        },
        "id": "dX-_8_6t2lrt",
        "outputId": "63ac728b-02f3-4c93-9155-6ae93b0a999a"
      },
      "source": [
        "tokens=clean_text(data)\n",
        "print(tokens[:50])"
      ],
      "execution_count": 8,
      "outputs": [
        {
          "output_type": "stream",
          "text": [
            "['four', 'months', 'after', 'leading', 'a', 'million', 'growth', 'round', 'in', 'bibit', 'sequoia', 'capital', 'india', 'has', 'doubled', 'down', 'on', 'its', 'investment', 'in', 'the', 'indonesian', 'roboadvisor', 'app', 'bibit', 'announced', 'today', 'that', 'the', 'firm', 'led', 'a', 'new', 'million', 'growth', 'round', 'that', 'also', 'included', 'participation', 'from', 'prosus', 'ventures', 'tencent', 'harvard', 'management', 'company', 'and', 'returning', 'investors']\n"
          ],
          "name": "stdout"
        }
      ]
    },
    {
      "cell_type": "code",
      "metadata": {
        "colab": {
          "base_uri": "https://localhost:8080/"
        },
        "id": "D6sqbJmU3fH1",
        "outputId": "9157a3cd-adce-4764-965a-3b73d19d0fc5"
      },
      "source": [
        "len(tokens)"
      ],
      "execution_count": 9,
      "outputs": [
        {
          "output_type": "execute_result",
          "data": {
            "text/plain": [
              "36127"
            ]
          },
          "metadata": {
            "tags": []
          },
          "execution_count": 9
        }
      ]
    },
    {
      "cell_type": "code",
      "metadata": {
        "colab": {
          "base_uri": "https://localhost:8080/"
        },
        "id": "xNzpqrLj3n6U",
        "outputId": "018cbb4c-4d4a-478b-a3e8-c12ecc7fccf9"
      },
      "source": [
        "len(set(tokens))\n",
        "##unique words"
      ],
      "execution_count": 10,
      "outputs": [
        {
          "output_type": "execute_result",
          "data": {
            "text/plain": [
              "552"
            ]
          },
          "metadata": {
            "tags": []
          },
          "execution_count": 10
        }
      ]
    },
    {
      "cell_type": "code",
      "metadata": {
        "colab": {
          "base_uri": "https://localhost:8080/"
        },
        "id": "iI8rCsJ73s_c",
        "outputId": "ed6e5c40-572c-432f-bd09-a5a4c2bb7332"
      },
      "source": [
        "length=5+1\n",
        "lines=[]\n",
        "\n",
        "for i in range(length, len(tokens)):\n",
        "  seq=tokens[i-length:i]\n",
        "  line= ' '.join(seq)\n",
        "  lines.append(line)\n",
        "  \n",
        "print(len(lines))"
      ],
      "execution_count": 11,
      "outputs": [
        {
          "output_type": "stream",
          "text": [
            "36121\n"
          ],
          "name": "stdout"
        }
      ]
    },
    {
      "cell_type": "code",
      "metadata": {
        "colab": {
          "base_uri": "https://localhost:8080/",
          "height": 35
        },
        "id": "ohrGa5Y44RyM",
        "outputId": "7d20ea4a-fbe4-4009-9d07-7e7151e9aa3f"
      },
      "source": [
        "lines[0]"
      ],
      "execution_count": 12,
      "outputs": [
        {
          "output_type": "execute_result",
          "data": {
            "application/vnd.google.colaboratory.intrinsic+json": {
              "type": "string"
            },
            "text/plain": [
              "'four months after leading a million'"
            ]
          },
          "metadata": {
            "tags": []
          },
          "execution_count": 12
        }
      ]
    },
    {
      "cell_type": "code",
      "metadata": {
        "id": "cd-PhN6r4ePE"
      },
      "source": [
        "## Build LSTM model and Prepare X and Y\n",
        "from tensorflow.keras.preprocessing.text import Tokenizer\n",
        "from tensorflow.keras.utils import to_categorical\n",
        "from tensorflow.keras.models import Sequential\n",
        "from tensorflow.keras.layers import Dense, LSTM, Embedding\n",
        "from tensorflow.keras.preprocessing.sequence import pad_sequences"
      ],
      "execution_count": 13,
      "outputs": []
    },
    {
      "cell_type": "code",
      "metadata": {
        "id": "GYk7Qjfa4lrj"
      },
      "source": [
        "tokenizer=Tokenizer()\n",
        "tokenizer.fit_on_texts(lines)\n",
        "sequences=tokenizer.texts_to_sequences(lines)"
      ],
      "execution_count": 14,
      "outputs": []
    },
    {
      "cell_type": "code",
      "metadata": {
        "id": "Ni4JPoHM5Nyz"
      },
      "source": [
        "sequences=np.array(sequences)"
      ],
      "execution_count": 15,
      "outputs": []
    },
    {
      "cell_type": "code",
      "metadata": {
        "id": "NQpo18ZE5TU7"
      },
      "source": [
        "X,y=sequences[:,:-1],sequences[:,-1]"
      ],
      "execution_count": 16,
      "outputs": []
    },
    {
      "cell_type": "code",
      "metadata": {
        "colab": {
          "base_uri": "https://localhost:8080/"
        },
        "id": "OWn-SqvD5-el",
        "outputId": "c6242021-b09e-41fe-ea59-260c6d608a69"
      },
      "source": [
        "vocab_size=len(tokenizer.word_index)+1\n",
        "vocab_size"
      ],
      "execution_count": 17,
      "outputs": [
        {
          "output_type": "execute_result",
          "data": {
            "text/plain": [
              "553"
            ]
          },
          "metadata": {
            "tags": []
          },
          "execution_count": 17
        }
      ]
    },
    {
      "cell_type": "code",
      "metadata": {
        "id": "TmqtnnaX5eDi"
      },
      "source": [
        "y=to_categorical(y,num_classes=vocab_size)\n"
      ],
      "execution_count": 18,
      "outputs": []
    },
    {
      "cell_type": "markdown",
      "metadata": {
        "id": "a1NyTyYQYwCD"
      },
      "source": [
        ""
      ]
    },
    {
      "cell_type": "code",
      "metadata": {
        "colab": {
          "base_uri": "https://localhost:8080/"
        },
        "id": "_IH7axAk5q8q",
        "outputId": "dfbf0103-2406-484c-9536-23acb49d5dc7"
      },
      "source": [
        "seq_length=X.shape[1]\n",
        "seq_length"
      ],
      "execution_count": 19,
      "outputs": [
        {
          "output_type": "execute_result",
          "data": {
            "text/plain": [
              "5"
            ]
          },
          "metadata": {
            "tags": []
          },
          "execution_count": 19
        }
      ]
    },
    {
      "cell_type": "code",
      "metadata": {
        "colab": {
          "base_uri": "https://localhost:8080/"
        },
        "id": "XOAlEiD56URX",
        "outputId": "962bd809-8dff-4799-8636-68c334968732"
      },
      "source": [
        "#LSTM Model\n",
        "\n",
        "model=Sequential()\n",
        "model.add(Embedding(vocab_size, 5,input_length=seq_length))\n",
        "model.add(LSTM(50, return_sequences=True))\n",
        "model.add(LSTM(500))\n",
        "model.add(Dense(500,activation=\"relu\"))\n",
        "model.add(Dense(vocab_size,activation=\"softmax\"))\n",
        "model.summary()\n"
      ],
      "execution_count": 20,
      "outputs": [
        {
          "output_type": "stream",
          "text": [
            "Model: \"sequential\"\n",
            "_________________________________________________________________\n",
            "Layer (type)                 Output Shape              Param #   \n",
            "=================================================================\n",
            "embedding (Embedding)        (None, 5, 5)              2765      \n",
            "_________________________________________________________________\n",
            "lstm (LSTM)                  (None, 5, 50)             11200     \n",
            "_________________________________________________________________\n",
            "lstm_1 (LSTM)                (None, 500)               1102000   \n",
            "_________________________________________________________________\n",
            "dense (Dense)                (None, 500)               250500    \n",
            "_________________________________________________________________\n",
            "dense_1 (Dense)              (None, 553)               277053    \n",
            "=================================================================\n",
            "Total params: 1,643,518\n",
            "Trainable params: 1,643,518\n",
            "Non-trainable params: 0\n",
            "_________________________________________________________________\n"
          ],
          "name": "stdout"
        }
      ]
    },
    {
      "cell_type": "code",
      "metadata": {
        "colab": {
          "base_uri": "https://localhost:8080/"
        },
        "id": "24mFo7Jw686K",
        "outputId": "569715ef-661a-433c-e6fd-df7fd0930f94"
      },
      "source": [
        "model.compile(loss='categorical_crossentropy', optimizer='adam', metrics=['accuracy'])\n",
        "model.fit(X,y,batch_size=64,epochs=100)"
      ],
      "execution_count": 21,
      "outputs": [
        {
          "output_type": "stream",
          "text": [
            "Epoch 1/100\n",
            "565/565 [==============================] - 16s 15ms/step - loss: 4.9594 - accuracy: 0.0805\n",
            "Epoch 2/100\n",
            "565/565 [==============================] - 8s 14ms/step - loss: 2.9977 - accuracy: 0.2399\n",
            "Epoch 3/100\n",
            "565/565 [==============================] - 8s 15ms/step - loss: 1.5803 - accuracy: 0.5619\n",
            "Epoch 4/100\n",
            "565/565 [==============================] - 8s 15ms/step - loss: 0.7363 - accuracy: 0.8106\n",
            "Epoch 5/100\n",
            "565/565 [==============================] - 8s 15ms/step - loss: 0.3603 - accuracy: 0.9155\n",
            "Epoch 6/100\n",
            "565/565 [==============================] - 8s 15ms/step - loss: 0.1439 - accuracy: 0.9710\n",
            "Epoch 7/100\n",
            "565/565 [==============================] - 8s 15ms/step - loss: 0.1779 - accuracy: 0.9573\n",
            "Epoch 8/100\n",
            "565/565 [==============================] - 8s 15ms/step - loss: 0.0530 - accuracy: 0.9893\n",
            "Epoch 9/100\n",
            "565/565 [==============================] - 8s 14ms/step - loss: 0.1184 - accuracy: 0.9700\n",
            "Epoch 10/100\n",
            "565/565 [==============================] - 8s 14ms/step - loss: 0.0733 - accuracy: 0.9815\n",
            "Epoch 11/100\n",
            "565/565 [==============================] - 8s 14ms/step - loss: 0.0294 - accuracy: 0.9939\n",
            "Epoch 12/100\n",
            "565/565 [==============================] - 8s 14ms/step - loss: 0.1109 - accuracy: 0.9715\n",
            "Epoch 13/100\n",
            "565/565 [==============================] - 8s 14ms/step - loss: 0.0257 - accuracy: 0.9942\n",
            "Epoch 14/100\n",
            "565/565 [==============================] - 8s 14ms/step - loss: 0.0930 - accuracy: 0.9765\n",
            "Epoch 15/100\n",
            "565/565 [==============================] - 8s 14ms/step - loss: 0.0196 - accuracy: 0.9952\n",
            "Epoch 16/100\n",
            "565/565 [==============================] - 8s 14ms/step - loss: 0.0122 - accuracy: 0.9971\n",
            "Epoch 17/100\n",
            "565/565 [==============================] - 8s 14ms/step - loss: 0.1055 - accuracy: 0.9737\n",
            "Epoch 18/100\n",
            "565/565 [==============================] - 8s 14ms/step - loss: 0.0236 - accuracy: 0.9944\n",
            "Epoch 19/100\n",
            "565/565 [==============================] - 8s 14ms/step - loss: 0.0151 - accuracy: 0.9964\n",
            "Epoch 20/100\n",
            "565/565 [==============================] - 8s 14ms/step - loss: 0.0152 - accuracy: 0.9962\n",
            "Epoch 21/100\n",
            "565/565 [==============================] - 8s 14ms/step - loss: 0.0803 - accuracy: 0.9798\n",
            "Epoch 22/100\n",
            "565/565 [==============================] - 8s 14ms/step - loss: 0.0150 - accuracy: 0.9962\n",
            "Epoch 23/100\n",
            "565/565 [==============================] - 8s 14ms/step - loss: 0.0086 - accuracy: 0.9979\n",
            "Epoch 24/100\n",
            "565/565 [==============================] - 8s 14ms/step - loss: 0.0091 - accuracy: 0.9976\n",
            "Epoch 25/100\n",
            "565/565 [==============================] - 8s 14ms/step - loss: 0.0876 - accuracy: 0.9782\n",
            "Epoch 26/100\n",
            "565/565 [==============================] - 8s 15ms/step - loss: 0.0145 - accuracy: 0.9965\n",
            "Epoch 27/100\n",
            "565/565 [==============================] - 8s 14ms/step - loss: 0.0087 - accuracy: 0.9978\n",
            "Epoch 28/100\n",
            "565/565 [==============================] - 8s 14ms/step - loss: 0.0071 - accuracy: 0.9978\n",
            "Epoch 29/100\n",
            "565/565 [==============================] - 8s 14ms/step - loss: 0.0242 - accuracy: 0.9942\n",
            "Epoch 30/100\n",
            "565/565 [==============================] - 8s 15ms/step - loss: 0.0759 - accuracy: 0.9805\n",
            "Epoch 31/100\n",
            "565/565 [==============================] - 8s 15ms/step - loss: 0.0068 - accuracy: 0.9979\n",
            "Epoch 32/100\n",
            "565/565 [==============================] - 8s 14ms/step - loss: 0.0064 - accuracy: 0.9980\n",
            "Epoch 33/100\n",
            "565/565 [==============================] - 8s 14ms/step - loss: 0.0064 - accuracy: 0.9981\n",
            "Epoch 34/100\n",
            "565/565 [==============================] - 8s 14ms/step - loss: 0.0068 - accuracy: 0.9980\n",
            "Epoch 35/100\n",
            "565/565 [==============================] - 8s 14ms/step - loss: 0.0066 - accuracy: 0.9982\n",
            "Epoch 36/100\n",
            "565/565 [==============================] - 8s 14ms/step - loss: 0.0773 - accuracy: 0.9803\n",
            "Epoch 37/100\n",
            "565/565 [==============================] - 8s 14ms/step - loss: 0.0071 - accuracy: 0.9979\n",
            "Epoch 38/100\n",
            "565/565 [==============================] - 8s 14ms/step - loss: 0.0060 - accuracy: 0.9981\n",
            "Epoch 39/100\n",
            "565/565 [==============================] - 8s 14ms/step - loss: 0.0067 - accuracy: 0.9981\n",
            "Epoch 40/100\n",
            "565/565 [==============================] - 8s 14ms/step - loss: 0.0528 - accuracy: 0.9859\n",
            "Epoch 41/100\n",
            "565/565 [==============================] - 8s 14ms/step - loss: 0.0092 - accuracy: 0.9975\n",
            "Epoch 42/100\n",
            "565/565 [==============================] - 8s 14ms/step - loss: 0.0061 - accuracy: 0.9983\n",
            "Epoch 43/100\n",
            "565/565 [==============================] - 8s 15ms/step - loss: 0.0084 - accuracy: 0.9979\n",
            "Epoch 44/100\n",
            "565/565 [==============================] - 8s 14ms/step - loss: 0.0075 - accuracy: 0.9980\n",
            "Epoch 45/100\n",
            "565/565 [==============================] - 8s 14ms/step - loss: 0.0531 - accuracy: 0.9868\n",
            "Epoch 46/100\n",
            "565/565 [==============================] - 8s 14ms/step - loss: 0.0067 - accuracy: 0.9981\n",
            "Epoch 47/100\n",
            "565/565 [==============================] - 8s 14ms/step - loss: 0.0059 - accuracy: 0.9983\n",
            "Epoch 48/100\n",
            "565/565 [==============================] - 8s 14ms/step - loss: 0.0053 - accuracy: 0.9984\n",
            "Epoch 49/100\n",
            "565/565 [==============================] - 8s 14ms/step - loss: 0.0059 - accuracy: 0.9982\n",
            "Epoch 50/100\n",
            "565/565 [==============================] - 8s 14ms/step - loss: 0.0461 - accuracy: 0.9885\n",
            "Epoch 51/100\n",
            "565/565 [==============================] - 8s 14ms/step - loss: 0.0062 - accuracy: 0.9982\n",
            "Epoch 52/100\n",
            "565/565 [==============================] - 8s 14ms/step - loss: 0.0058 - accuracy: 0.9984\n",
            "Epoch 53/100\n",
            "565/565 [==============================] - 8s 14ms/step - loss: 0.0052 - accuracy: 0.9984\n",
            "Epoch 54/100\n",
            "565/565 [==============================] - 8s 14ms/step - loss: 0.0456 - accuracy: 0.9890\n",
            "Epoch 55/100\n",
            "565/565 [==============================] - 8s 14ms/step - loss: 0.0056 - accuracy: 0.9984\n",
            "Epoch 56/100\n",
            "565/565 [==============================] - 8s 14ms/step - loss: 0.0051 - accuracy: 0.9985\n",
            "Epoch 57/100\n",
            "565/565 [==============================] - 8s 14ms/step - loss: 0.0049 - accuracy: 0.9984\n",
            "Epoch 58/100\n",
            "565/565 [==============================] - 8s 14ms/step - loss: 0.0048 - accuracy: 0.9985\n",
            "Epoch 59/100\n",
            "565/565 [==============================] - 8s 15ms/step - loss: 0.0048 - accuracy: 0.9986\n",
            "Epoch 60/100\n",
            "565/565 [==============================] - 8s 14ms/step - loss: 0.0048 - accuracy: 0.9986\n",
            "Epoch 61/100\n",
            "565/565 [==============================] - 8s 14ms/step - loss: 0.0541 - accuracy: 0.9857\n",
            "Epoch 62/100\n",
            "565/565 [==============================] - 8s 14ms/step - loss: 0.0059 - accuracy: 0.9981\n",
            "Epoch 63/100\n",
            "565/565 [==============================] - 8s 15ms/step - loss: 0.0049 - accuracy: 0.9986\n",
            "Epoch 64/100\n",
            "565/565 [==============================] - 8s 15ms/step - loss: 0.0047 - accuracy: 0.9986\n",
            "Epoch 65/100\n",
            "565/565 [==============================] - 8s 15ms/step - loss: 0.0046 - accuracy: 0.9986\n",
            "Epoch 66/100\n",
            "565/565 [==============================] - 8s 15ms/step - loss: 0.0048 - accuracy: 0.9986\n",
            "Epoch 67/100\n",
            "565/565 [==============================] - 8s 15ms/step - loss: 0.0048 - accuracy: 0.9986\n",
            "Epoch 68/100\n",
            "565/565 [==============================] - 8s 14ms/step - loss: 0.0416 - accuracy: 0.9893\n",
            "Epoch 69/100\n",
            "565/565 [==============================] - 8s 14ms/step - loss: 0.0052 - accuracy: 0.9984\n",
            "Epoch 70/100\n",
            "565/565 [==============================] - 8s 14ms/step - loss: 0.0046 - accuracy: 0.9986\n",
            "Epoch 71/100\n",
            "565/565 [==============================] - 8s 15ms/step - loss: 0.0045 - accuracy: 0.9986\n",
            "Epoch 72/100\n",
            "565/565 [==============================] - 8s 14ms/step - loss: 0.0045 - accuracy: 0.9986\n",
            "Epoch 73/100\n",
            "565/565 [==============================] - 8s 15ms/step - loss: 0.0046 - accuracy: 0.9985\n",
            "Epoch 74/100\n",
            "565/565 [==============================] - 8s 15ms/step - loss: 0.0047 - accuracy: 0.9986\n",
            "Epoch 75/100\n",
            "565/565 [==============================] - 8s 15ms/step - loss: 0.0451 - accuracy: 0.9890\n",
            "Epoch 76/100\n",
            "565/565 [==============================] - 8s 14ms/step - loss: 0.0067 - accuracy: 0.9982\n",
            "Epoch 77/100\n",
            "565/565 [==============================] - 8s 14ms/step - loss: 0.0045 - accuracy: 0.9985\n",
            "Epoch 78/100\n",
            "565/565 [==============================] - 8s 15ms/step - loss: 0.0044 - accuracy: 0.9986\n",
            "Epoch 79/100\n",
            "565/565 [==============================] - 8s 15ms/step - loss: 0.0045 - accuracy: 0.9986\n",
            "Epoch 80/100\n",
            "565/565 [==============================] - 8s 14ms/step - loss: 0.0044 - accuracy: 0.9986\n",
            "Epoch 81/100\n",
            "565/565 [==============================] - 8s 15ms/step - loss: 0.0386 - accuracy: 0.9915\n",
            "Epoch 82/100\n",
            "565/565 [==============================] - 8s 15ms/step - loss: 0.0058 - accuracy: 0.9983\n",
            "Epoch 83/100\n",
            "565/565 [==============================] - 8s 15ms/step - loss: 0.0048 - accuracy: 0.9986\n",
            "Epoch 84/100\n",
            "565/565 [==============================] - 8s 15ms/step - loss: 0.0046 - accuracy: 0.9986\n",
            "Epoch 85/100\n",
            "565/565 [==============================] - 8s 15ms/step - loss: 0.0047 - accuracy: 0.9985\n",
            "Epoch 86/100\n",
            "565/565 [==============================] - 8s 15ms/step - loss: 0.0190 - accuracy: 0.9952\n",
            "Epoch 87/100\n",
            "565/565 [==============================] - 8s 15ms/step - loss: 0.0121 - accuracy: 0.9970\n",
            "Epoch 88/100\n",
            "565/565 [==============================] - 8s 15ms/step - loss: 0.0048 - accuracy: 0.9986\n",
            "Epoch 89/100\n",
            "565/565 [==============================] - 8s 15ms/step - loss: 0.0059 - accuracy: 0.9983\n",
            "Epoch 90/100\n",
            "565/565 [==============================] - 8s 15ms/step - loss: 0.0057 - accuracy: 0.9984\n",
            "Epoch 91/100\n",
            "565/565 [==============================] - 8s 15ms/step - loss: 0.0045 - accuracy: 0.9986\n",
            "Epoch 92/100\n",
            "565/565 [==============================] - 8s 15ms/step - loss: 0.0061 - accuracy: 0.9983\n",
            "Epoch 93/100\n",
            "565/565 [==============================] - 8s 15ms/step - loss: 0.0338 - accuracy: 0.9919\n",
            "Epoch 94/100\n",
            "565/565 [==============================] - 8s 15ms/step - loss: 0.0062 - accuracy: 0.9983\n",
            "Epoch 95/100\n",
            "565/565 [==============================] - 8s 15ms/step - loss: 0.0048 - accuracy: 0.9985\n",
            "Epoch 96/100\n",
            "565/565 [==============================] - 8s 15ms/step - loss: 0.0045 - accuracy: 0.9986\n",
            "Epoch 97/100\n",
            "565/565 [==============================] - 8s 15ms/step - loss: 0.0044 - accuracy: 0.9986\n",
            "Epoch 98/100\n",
            "565/565 [==============================] - 8s 15ms/step - loss: 0.0044 - accuracy: 0.9986\n",
            "Epoch 99/100\n",
            "565/565 [==============================] - 8s 15ms/step - loss: 0.0046 - accuracy: 0.9986\n",
            "Epoch 100/100\n",
            "565/565 [==============================] - 8s 15ms/step - loss: 0.0044 - accuracy: 0.9987\n"
          ],
          "name": "stdout"
        },
        {
          "output_type": "execute_result",
          "data": {
            "text/plain": [
              "<tensorflow.python.keras.callbacks.History at 0x7f62d018f490>"
            ]
          },
          "metadata": {
            "tags": []
          },
          "execution_count": 21
        }
      ]
    },
    {
      "cell_type": "code",
      "metadata": {
        "id": "Jqt0mXxt7R5h"
      },
      "source": [
        "def generate_text_sequence(model,tokenizer,text_seq_length,seed_text, n_words):\n",
        "  text=[]\n",
        "  print(len(tokenizer.word_index))\n",
        "  for _ in range(n_words):\n",
        "    encoded=tokenizer.texts_to_sequences([seed_text])[0]\n",
        "    print(encoded)\n",
        "    encoded=pad_sequences([encoded],maxlen=text_seq_length, truncating='pre')\n",
        "\n",
        "    # y_predic=model.predict_classes(encoded)\n",
        "    y_predic=np.argmax(model.predict(encoded), axis=-1)\n",
        "\n",
        "    predicted_word=''\n",
        "    for word,index in tokenizer.word_index.items():\n",
        "      if index==y_predic:\n",
        "        predicted_word=word\n",
        "        print(predicted_word)\n",
        "        break\n",
        "    seed_text=seed_text+\" \"+predicted_word\n",
        "    text.append(predicted_word)\n",
        "  return ' '.join(text)"
      ],
      "execution_count": 22,
      "outputs": []
    },
    {
      "cell_type": "code",
      "metadata": {
        "colab": {
          "base_uri": "https://localhost:8080/"
        },
        "id": "5yY0Rfb-9kb1",
        "outputId": "d161946f-c3f7-479b-f2ed-ac56e1cb1296"
      },
      "source": [
        "output=generate_text_sequence(model,tokenizer,seq_length, \"The doctors\",10)"
      ],
      "execution_count": 23,
      "outputs": [
        {
          "output_type": "stream",
          "text": [
            "552\n",
            "[1]\n",
            "the\n",
            "[1, 1]\n",
            "the\n",
            "[1, 1, 1]\n",
            "which\n",
            "[1, 1, 1, 15]\n",
            "owns\n",
            "[1, 1, 1, 15, 160]\n",
            "of\n",
            "[1, 1, 1, 15, 160, 4]\n",
            "the\n",
            "[1, 1, 1, 15, 160, 4, 1]\n",
            "darkside\n",
            "[1, 1, 1, 15, 160, 4, 1, 336]\n",
            "of\n",
            "[1, 1, 1, 15, 160, 4, 1, 336, 4]\n",
            "rivian\n",
            "[1, 1, 1, 15, 160, 4, 1, 336, 4, 63]\n",
            "organization\n"
          ],
          "name": "stdout"
        }
      ]
    },
    {
      "cell_type": "code",
      "metadata": {
        "colab": {
          "base_uri": "https://localhost:8080/",
          "height": 35
        },
        "id": "umNbX7dd99pP",
        "outputId": "120254b0-55fc-4d62-ddc8-3e902b00abf7"
      },
      "source": [
        "output"
      ],
      "execution_count": 24,
      "outputs": [
        {
          "output_type": "execute_result",
          "data": {
            "application/vnd.google.colaboratory.intrinsic+json": {
              "type": "string"
            },
            "text/plain": [
              "'the the which owns of the darkside of rivian organization'"
            ]
          },
          "metadata": {
            "tags": []
          },
          "execution_count": 24
        }
      ]
    },
    {
      "cell_type": "code",
      "metadata": {
        "colab": {
          "base_uri": "https://localhost:8080/",
          "height": 35
        },
        "id": "gM77Nj0KNL0d",
        "outputId": "35290361-ab97-4666-ac4f-eab1046d9e24"
      },
      "source": [
        "tf.__version__"
      ],
      "execution_count": 25,
      "outputs": [
        {
          "output_type": "execute_result",
          "data": {
            "application/vnd.google.colaboratory.intrinsic+json": {
              "type": "string"
            },
            "text/plain": [
              "'2.5.0'"
            ]
          },
          "metadata": {
            "tags": []
          },
          "execution_count": 25
        }
      ]
    },
    {
      "cell_type": "code",
      "metadata": {
        "id": "1309-v8k_7_t"
      },
      "source": [
        "import pickle\n",
        "\n",
        "# saving\n",
        "with open('textgen_tokenizer.pickle', 'wb') as handle:\n",
        "    pickle.dump(tokenizer, handle, protocol=pickle.HIGHEST_PROTOCOL)"
      ],
      "execution_count": 26,
      "outputs": []
    },
    {
      "cell_type": "code",
      "metadata": {
        "id": "ptX_pLmXFXUI"
      },
      "source": [
        ""
      ],
      "execution_count": 26,
      "outputs": []
    },
    {
      "cell_type": "code",
      "metadata": {
        "id": "fHaKJOGqFqCX"
      },
      "source": [
        "model.save(\"textgen_model.h5\")"
      ],
      "execution_count": 27,
      "outputs": []
    },
    {
      "cell_type": "code",
      "metadata": {
        "colab": {
          "base_uri": "https://localhost:8080/",
          "height": 17
        },
        "id": "a65Hd8xFGVrg",
        "outputId": "c1cb71d8-7993-4a95-eba0-d12c8d82d2cb"
      },
      "source": [
        "from google.colab import files\n",
        "files.download('textgen_model.h5')"
      ],
      "execution_count": 28,
      "outputs": [
        {
          "output_type": "display_data",
          "data": {
            "application/javascript": [
              "\n",
              "    async function download(id, filename, size) {\n",
              "      if (!google.colab.kernel.accessAllowed) {\n",
              "        return;\n",
              "      }\n",
              "      const div = document.createElement('div');\n",
              "      const label = document.createElement('label');\n",
              "      label.textContent = `Downloading \"${filename}\": `;\n",
              "      div.appendChild(label);\n",
              "      const progress = document.createElement('progress');\n",
              "      progress.max = size;\n",
              "      div.appendChild(progress);\n",
              "      document.body.appendChild(div);\n",
              "\n",
              "      const buffers = [];\n",
              "      let downloaded = 0;\n",
              "\n",
              "      const channel = await google.colab.kernel.comms.open(id);\n",
              "      // Send a message to notify the kernel that we're ready.\n",
              "      channel.send({})\n",
              "\n",
              "      for await (const message of channel.messages) {\n",
              "        // Send a message to notify the kernel that we're ready.\n",
              "        channel.send({})\n",
              "        if (message.buffers) {\n",
              "          for (const buffer of message.buffers) {\n",
              "            buffers.push(buffer);\n",
              "            downloaded += buffer.byteLength;\n",
              "            progress.value = downloaded;\n",
              "          }\n",
              "        }\n",
              "      }\n",
              "      const blob = new Blob(buffers, {type: 'application/binary'});\n",
              "      const a = document.createElement('a');\n",
              "      a.href = window.URL.createObjectURL(blob);\n",
              "      a.download = filename;\n",
              "      div.appendChild(a);\n",
              "      a.click();\n",
              "      div.remove();\n",
              "    }\n",
              "  "
            ],
            "text/plain": [
              "<IPython.core.display.Javascript object>"
            ]
          },
          "metadata": {
            "tags": []
          }
        },
        {
          "output_type": "display_data",
          "data": {
            "application/javascript": [
              "download(\"download_9077cc0c-89cb-4859-a1a4-619a5fafa1c8\", \"textgen_model.h5\", 19778976)"
            ],
            "text/plain": [
              "<IPython.core.display.Javascript object>"
            ]
          },
          "metadata": {
            "tags": []
          }
        }
      ]
    },
    {
      "cell_type": "code",
      "metadata": {
        "colab": {
          "base_uri": "https://localhost:8080/",
          "height": 17
        },
        "id": "BAdto4fEG9uv",
        "outputId": "46dffd49-c763-4f65-e172-124967dac1b1"
      },
      "source": [
        "files.download('textgen_tokenizer.pickle')"
      ],
      "execution_count": 29,
      "outputs": [
        {
          "output_type": "display_data",
          "data": {
            "application/javascript": [
              "\n",
              "    async function download(id, filename, size) {\n",
              "      if (!google.colab.kernel.accessAllowed) {\n",
              "        return;\n",
              "      }\n",
              "      const div = document.createElement('div');\n",
              "      const label = document.createElement('label');\n",
              "      label.textContent = `Downloading \"${filename}\": `;\n",
              "      div.appendChild(label);\n",
              "      const progress = document.createElement('progress');\n",
              "      progress.max = size;\n",
              "      div.appendChild(progress);\n",
              "      document.body.appendChild(div);\n",
              "\n",
              "      const buffers = [];\n",
              "      let downloaded = 0;\n",
              "\n",
              "      const channel = await google.colab.kernel.comms.open(id);\n",
              "      // Send a message to notify the kernel that we're ready.\n",
              "      channel.send({})\n",
              "\n",
              "      for await (const message of channel.messages) {\n",
              "        // Send a message to notify the kernel that we're ready.\n",
              "        channel.send({})\n",
              "        if (message.buffers) {\n",
              "          for (const buffer of message.buffers) {\n",
              "            buffers.push(buffer);\n",
              "            downloaded += buffer.byteLength;\n",
              "            progress.value = downloaded;\n",
              "          }\n",
              "        }\n",
              "      }\n",
              "      const blob = new Blob(buffers, {type: 'application/binary'});\n",
              "      const a = document.createElement('a');\n",
              "      a.href = window.URL.createObjectURL(blob);\n",
              "      a.download = filename;\n",
              "      div.appendChild(a);\n",
              "      a.click();\n",
              "      div.remove();\n",
              "    }\n",
              "  "
            ],
            "text/plain": [
              "<IPython.core.display.Javascript object>"
            ]
          },
          "metadata": {
            "tags": []
          }
        },
        {
          "output_type": "display_data",
          "data": {
            "application/javascript": [
              "download(\"download_a9e3e09a-8907-4403-b517-3e48cf948d7c\", \"textgen_tokenizer.pickle\", 19943)"
            ],
            "text/plain": [
              "<IPython.core.display.Javascript object>"
            ]
          },
          "metadata": {
            "tags": []
          }
        }
      ]
    },
    {
      "cell_type": "code",
      "metadata": {
        "id": "NJbaCovymoXD"
      },
      "source": [
        ""
      ],
      "execution_count": null,
      "outputs": []
    }
  ]
}